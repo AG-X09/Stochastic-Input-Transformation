{
 "cells": [
  {
   "cell_type": "code",
   "execution_count": 1,
   "metadata": {
    "collapsed": false
   },
   "outputs": [
   ],
   "source": [
    "import torch\n",
    "import torch.nn as nn\n",
    "import torch.nn.functional as F\n",
    "import torchvision\n",
    "import torchvision.datasets as datasets\n",
    "import torchvision.transforms as transforms\n"
   ]
  },
  {
   "cell_type": "code",
   "execution_count": 0,
   "metadata": {
    "collapsed": false
   },
   "outputs": [
   ],
   "source": [
    "from models import Lenet5\n",
    "from defense import Defense\n",
    "from utils import predict"
   ]
  },
  {
   "cell_type": "code",
   "execution_count": 0,
   "metadata": {
    "collapsed": false
   },
   "outputs": [
   ],
   "source": [
    "torch.manual_seed(0)\n",
    "use_cuda = torch.cuda.is_available()\n",
    "device = torch.device(\"cuda\" if use_cuda else \"cpu\")"
   ]
  },
  {
   "cell_type": "code",
   "execution_count": 0,
   "metadata": {
    "collapsed": false
   },
   "outputs": [
   ],
   "source": [
    "#Import trained lenet5 model\n",
    "filename = \"trained_lenet5.pt\"\n",
    "\n",
    "model = Lenet5()\n",
    "model.load_state_dict(torch.load(filename))\n",
    "model.to(device)\n",
    "model.eval()"
   ]
  },
  {
   "cell_type": "code",
   "execution_count": 0,
   "metadata": {
    "collapsed": false
   },
   "outputs": [
   ],
   "source": [
    "#Import data\n",
    "batch_size = 1000\n",
    "test_loader = torch.utils.data.DataLoader(\n",
    "    datasets.MNIST(root='./data', train=False, download=True,\n",
    "                   transform=transforms.ToTensor()),\n",
    "    batch_size=batch_size, shuffle=False)\n",
    "\n",
    "for data, label in test_loader:\n",
    "    break\n",
    "data, label = data.to(device), label.to(device)"
   ]
  },
  {
   "cell_type": "code",
   "execution_count": 0,
   "metadata": {
    "collapsed": false
   },
   "outputs": [
   ],
   "source": [
    "for data, label in test_loader:\n",
    "    break\n",
    "data, label = data.to(device), label.to(device)"
   ]
  },
  {
   "cell_type": "code",
   "execution_count": 0,
   "metadata": {
    "collapsed": false
   },
   "outputs": [
   ],
   "source": [
    "#test Defense\n",
    "\n",
    "kernel = 3\n",
    "in_channel = 1\n",
    "out_channel = 32\n",
    "\n",
    "clip_min_weight = model.conv1.weight.data.min()  \n",
    "clip_max_weight = model.conv1.weight.data.max()\n",
    "\n",
    "clip_min_bias = model.conv1.bias.data.min()  \n",
    "clip_max_bias = model.conv1.bias.data.max()\n",
    "\n",
    "a = 17\n",
    "b = 0.5\n",
    "\n",
    "data_defended = Defense( data, in_channel, out_channel, kernel, a, \n",
    "                          b, clip_min_weight, clip_max_weight, clip_min_bias, clip_max_bias)"
   ]
  },
  {
   "cell_type": "code",
   "execution_count": 0,
   "metadata": {
    "collapsed": false
   },
   "outputs": [
   ],
   "source": [
    "accuracy = predict(data, label, model)\n",
    "accuracy_defended = predict(data_defended, label, model)\n",
    "\n",
    "print(\"Model accuracy : %.2f\" %  accuracy)\n",
    "print(\"Defended model accuracy : %.2f\" %  accuracy_defended)"
   ]
  }
 ],
 "metadata": {
  "kernelspec": {
   "display_name": "Python 3 (system-wide)",
   "language": "python",
   "metadata": {
    "cocalc": {
     "description": "Python 3 programming language",
     "priority": 100,
     "url": "https://www.python.org/"
    }
   },
   "name": "python3"
  },
  "language_info": {
   "codemirror_mode": {
    "name": "ipython",
    "version": 3
   },
   "file_extension": ".py",
   "mimetype": "text/x-python",
   "name": "python",
   "nbconvert_exporter": "python",
   "pygments_lexer": "ipython3",
   "version": "3.8.2"
  }
 },
 "nbformat": 4,
 "nbformat_minor": 4
}